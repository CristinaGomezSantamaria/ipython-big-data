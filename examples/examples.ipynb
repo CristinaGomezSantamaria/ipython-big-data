{
 "cells": [
  {
   "cell_type": "code",
   "execution_count": 1,
   "metadata": {},
   "outputs": [],
   "source": [
    "%load_ext bigdata"
   ]
  },
  {
   "cell_type": "code",
   "execution_count": 2,
   "metadata": {},
   "outputs": [],
   "source": [
    "%pig_init"
   ]
  },
  {
   "cell_type": "code",
   "execution_count": 3,
   "metadata": {},
   "outputs": [
    {
     "name": "stdout",
     "output_type": "stream",
     "text": [
      "Writing data.csv\n"
     ]
    }
   ],
   "source": [
    "%%writefile data.csv\n",
    "A, 1,  2,  3,  4\n",
    "B, 5,  6,  7,  8\n",
    "C, 9, 10, 11, 12"
   ]
  },
  {
   "cell_type": "code",
   "execution_count": 4,
   "metadata": {},
   "outputs": [
    {
     "name": "stdout",
     "output_type": "stream",
     "text": [
      "(A,1,2,3,4)\n",
      "(B,5,6,7,8)\n",
      "(C,9,10,11,12)\n"
     ]
    }
   ],
   "source": [
    "%%pig\n",
    "u = load 'data.csv' using PigStorage(',') \n",
    "    as (L:chararray, f1:int, f2:int, f3:int, f4:int); \n",
    "dump u;"
   ]
  },
  {
   "cell_type": "code",
   "execution_count": 5,
   "metadata": {},
   "outputs": [
    {
     "name": "stdout",
     "output_type": "stream",
     "text": [
      "Hive initialized!\n"
     ]
    }
   ],
   "source": [
    "%hive_init"
   ]
  },
  {
   "cell_type": "code",
   "execution_count": 6,
   "metadata": {},
   "outputs": [
    {
     "name": "stdout",
     "output_type": "stream",
     "text": [
      "Writing persons.csv\n"
     ]
    }
   ],
   "source": [
    "%%writefile persons.csv\n",
    "4,Roth,Fry,1975-01-29 00:00:00,black,1\n",
    "5,Zoe,Conway,1974-07-03 00:00:00,blue,2\n",
    "6,Gretchen,Kinney,1974-10-18 00:00:00,viole,1\n",
    "7,Driscoll,Klein,1970-10-05 00:00:00,blue,5\n",
    "8,Karyn,Diaz,1969-02-24 00:00:00,red,1\n",
    "9,Merritt,Guy,1974-10-17 00:00:00,indigo,4\n",
    "10,Kylan,Sexton,1975-02-29 00:00:00,black,4\n",
    "11,Jordan,Estes,1969-12-07 00:00:00,indigo,4\n",
    "12,Hope,Coffey,1973-12-24 00:00:00,green,5\n",
    "13,Vivian,Crane,1970-08-27 00:00:00,gray,5\n",
    "14,Clio,Noel,1972-12-12 00:00:00,red,5\n",
    "15,Hope,Silva,1970-07-01 00:00:00,blue,5\n",
    "16,Ayanna,Jarvis,1974-02-11 00:00:00,orange,5\n",
    "17,Chanda,Boyer,1973-04-01 00:00:00,green,4\n",
    "18,Chadwick,Knight,1973-04-29 00:00:00,yellow,1"
   ]
  },
  {
   "cell_type": "code",
   "execution_count": 7,
   "metadata": {},
   "outputs": [
    {
     "data": {
      "text/plain": [
       "643"
      ]
     },
     "execution_count": 7,
     "metadata": {},
     "output_type": "execute_result"
    }
   ],
   "source": [
    "lines = open('persons.csv', 'r').read()\n",
    "lines = lines.replace(',', chr(1))\n",
    "open('persons', 'w').write(lines)"
   ]
  },
  {
   "cell_type": "code",
   "execution_count": 8,
   "metadata": {},
   "outputs": [
    {
     "name": "stdout",
     "output_type": "stream",
     "text": [
      "4\tRoth\tFry\t1975-01-29 00:00:00\tblack\t1\n",
      "5\tZoe\tConway\t1974-07-03 00:00:00\tblue\t2\n",
      "6\tGretchen\tKinney\t1974-10-18 00:00:00\tviole\t1\n",
      "7\tDriscoll\tKlein\t1970-10-05 00:00:00\tblue\t5\n",
      "8\tKaryn\tDiaz\t1969-02-24 00:00:00\tred\t1\n",
      "9\tMerritt\tGuy\t1974-10-17 00:00:00\tindigo\t4\n",
      "10\tKylan\tSexton\t1975-03-01 00:00:00\tblack\t4\n",
      "11\tJordan\tEstes\t1969-12-07 00:00:00\tindigo\t4\n",
      "12\tHope\tCoffey\t1973-12-24 00:00:00\tgreen\t5\n",
      "13\tVivian\tCrane\t1970-08-27 00:00:00\tgray\t5\n",
      "14\tClio\tNoel\t1972-12-12 00:00:00\tred\t5\n",
      "15\tHope\tSilva\t1970-07-01 00:00:00\tblue\t5\n",
      "16\tAyanna\tJarvis\t1974-02-11 00:00:00\torange\t5\n",
      "17\tChanda\tBoyer\t1973-04-01 00:00:00\tgreen\t4\n",
      "18\tChadwick\tKnight\t1973-04-29 00:00:00\tyellow\t1\n"
     ]
    }
   ],
   "source": [
    "%%hive\n",
    "\n",
    "DROP DATABASE IF EXISTS test CASCADE;\n",
    "CREATE DATABASE test;\n",
    "USE test;\n",
    "\n",
    "CREATE TABLE persons (\n",
    "    id INT,\n",
    "    firstname VARCHAR(10),\n",
    "    surname VARCHAR(10),\n",
    "    birthday TIMESTAMP,\n",
    "    color VARCHAR(9),\n",
    "    quantity INT\n",
    ");\n",
    "LOAD DATA LOCAL INPATH 'persons' INTO TABLE persons; \n",
    "SELECT * FROM persons;\n",
    "DROP DATABASE IF EXISTS test CASCADE;"
   ]
  },
  {
   "cell_type": "code",
   "execution_count": null,
   "metadata": {},
   "outputs": [],
   "source": []
  }
 ],
 "metadata": {
  "kernelspec": {
   "display_name": "Python 3",
   "language": "python",
   "name": "python3"
  },
  "language_info": {
   "codemirror_mode": {
    "name": "ipython",
    "version": 3
   },
   "file_extension": ".py",
   "mimetype": "text/x-python",
   "name": "python",
   "nbconvert_exporter": "python",
   "pygments_lexer": "ipython3",
   "version": "3.6.5"
  },
  "toc-autonumbering": false
 },
 "nbformat": 4,
 "nbformat_minor": 2
}
